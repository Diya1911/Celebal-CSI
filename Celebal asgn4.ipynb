{
  "nbformat": 4,
  "nbformat_minor": 0,
  "metadata": {
    "colab": {
      "provenance": []
    },
    "kernelspec": {
      "name": "python3",
      "display_name": "Python 3"
    },
    "language_info": {
      "name": "python"
    }
  },
  "cells": [
    {
      "cell_type": "code",
      "execution_count": 1,
      "metadata": {
        "id": "RdpLqbuDO3HC"
      },
      "outputs": [],
      "source": [
        "import pandas as pd\n",
        "import numpy as np\n",
        "from sklearn.model_selection import train_test_split\n",
        "from sklearn.preprocessing import StandardScaler, LabelEncoder\n",
        "from sklearn.impute import SimpleImputer"
      ]
    },
    {
      "cell_type": "code",
      "source": [
        "\n",
        "df = pd.read_csv(\"Iris (2).csv\")"
      ],
      "metadata": {
        "id": "_2Gp_wZYO_tW"
      },
      "execution_count": 12,
      "outputs": []
    },
    {
      "cell_type": "code",
      "source": [
        "df = pd.DataFrame(data=iris.data, columns=iris.feature_names)\n",
        "df['target'] = iris.target"
      ],
      "metadata": {
        "id": "FHfMmy4ePCxt"
      },
      "execution_count": 3,
      "outputs": []
    },
    {
      "cell_type": "code",
      "source": [
        "print(df.head())\n",
        "print(df.info())\n",
        "print(df.describe())"
      ],
      "metadata": {
        "colab": {
          "base_uri": "https://localhost:8080/"
        },
        "id": "5yPovfgsPKIK",
        "outputId": "f2231e20-07d6-47ac-a793-23b42d343e75"
      },
      "execution_count": 4,
      "outputs": [
        {
          "output_type": "stream",
          "name": "stdout",
          "text": [
            "   sepal length (cm)  sepal width (cm)  petal length (cm)  petal width (cm)  \\\n",
            "0                5.1               3.5                1.4               0.2   \n",
            "1                4.9               3.0                1.4               0.2   \n",
            "2                4.7               3.2                1.3               0.2   \n",
            "3                4.6               3.1                1.5               0.2   \n",
            "4                5.0               3.6                1.4               0.2   \n",
            "\n",
            "   target  \n",
            "0       0  \n",
            "1       0  \n",
            "2       0  \n",
            "3       0  \n",
            "4       0  \n",
            "<class 'pandas.core.frame.DataFrame'>\n",
            "RangeIndex: 150 entries, 0 to 149\n",
            "Data columns (total 5 columns):\n",
            " #   Column             Non-Null Count  Dtype  \n",
            "---  ------             --------------  -----  \n",
            " 0   sepal length (cm)  150 non-null    float64\n",
            " 1   sepal width (cm)   150 non-null    float64\n",
            " 2   petal length (cm)  150 non-null    float64\n",
            " 3   petal width (cm)   150 non-null    float64\n",
            " 4   target             150 non-null    int64  \n",
            "dtypes: float64(4), int64(1)\n",
            "memory usage: 6.0 KB\n",
            "None\n",
            "       sepal length (cm)  sepal width (cm)  petal length (cm)  \\\n",
            "count         150.000000        150.000000         150.000000   \n",
            "mean            5.843333          3.057333           3.758000   \n",
            "std             0.828066          0.435866           1.765298   \n",
            "min             4.300000          2.000000           1.000000   \n",
            "25%             5.100000          2.800000           1.600000   \n",
            "50%             5.800000          3.000000           4.350000   \n",
            "75%             6.400000          3.300000           5.100000   \n",
            "max             7.900000          4.400000           6.900000   \n",
            "\n",
            "       petal width (cm)      target  \n",
            "count        150.000000  150.000000  \n",
            "mean           1.199333    1.000000  \n",
            "std            0.762238    0.819232  \n",
            "min            0.100000    0.000000  \n",
            "25%            0.300000    0.000000  \n",
            "50%            1.300000    1.000000  \n",
            "75%            1.800000    2.000000  \n",
            "max            2.500000    2.000000  \n"
          ]
        }
      ]
    },
    {
      "cell_type": "code",
      "source": [
        "print(\"Missing values:\\n\", df.isnull().sum())"
      ],
      "metadata": {
        "colab": {
          "base_uri": "https://localhost:8080/"
        },
        "id": "Q8VqI8h5PN_y",
        "outputId": "f0e21acd-2cb0-4431-e916-11ec30280bd4"
      },
      "execution_count": 5,
      "outputs": [
        {
          "output_type": "stream",
          "name": "stdout",
          "text": [
            "Missing values:\n",
            " sepal length (cm)    0\n",
            "sepal width (cm)     0\n",
            "petal length (cm)    0\n",
            "petal width (cm)     0\n",
            "target               0\n",
            "dtype: int64\n"
          ]
        }
      ]
    },
    {
      "cell_type": "code",
      "source": [
        "scaler = StandardScaler()\n",
        "df.iloc[:, :-1] = scaler.fit_transform(df.iloc[:, :-1])"
      ],
      "metadata": {
        "id": "LlvSZpzrPR85"
      },
      "execution_count": 6,
      "outputs": []
    },
    {
      "cell_type": "code",
      "source": [
        "df['sepal length (cm)^2'] = df['sepal length (cm)'] ** 2\n",
        "df['sepal width (cm)^2'] = df['sepal width (cm)'] ** 2\n",
        "df['petal length (cm)^2'] = df['petal length (cm)'] ** 2\n",
        "df['petal width (cm)^2'] = df['petal width (cm)'] ** 2"
      ],
      "metadata": {
        "id": "5qy86HEJPVx4"
      },
      "execution_count": 7,
      "outputs": []
    },
    {
      "cell_type": "code",
      "source": [
        "X = df.drop('target', axis=1)\n",
        "y = df['target']\n",
        "X_train, X_test, y_train, y_test = train_test_split(X, y, test_size=0.2, random_state=42)"
      ],
      "metadata": {
        "id": "_sAcI2vgPamZ"
      },
      "execution_count": 8,
      "outputs": []
    },
    {
      "cell_type": "code",
      "source": [
        "print(\"\\nTraining features:\\n\", X_train.head())\n",
        "print(\"\\nTraining labels:\\n\", y_train.head())\n"
      ],
      "metadata": {
        "colab": {
          "base_uri": "https://localhost:8080/"
        },
        "id": "YFAiON5yPeEJ",
        "outputId": "ac53f61c-5646-4685-9d48-3660d3fee5f9"
      },
      "execution_count": 9,
      "outputs": [
        {
          "output_type": "stream",
          "name": "stdout",
          "text": [
            "\n",
            "Training features:\n",
            "     sepal length (cm)  sepal width (cm)  petal length (cm)  petal width (cm)  \\\n",
            "22          -1.506521          1.249201          -1.567576         -1.315444   \n",
            "15          -0.173674          3.090775          -1.283389         -1.052180   \n",
            "65           1.038005          0.098217           0.364896          0.264142   \n",
            "11          -1.264185          0.788808          -1.226552         -1.315444   \n",
            "42          -1.748856          0.328414          -1.397064         -1.315444   \n",
            "\n",
            "    sepal length (cm)^2  sepal width (cm)^2  petal length (cm)^2  \\\n",
            "22             2.269604            1.560503             2.457295   \n",
            "15             0.030163            9.552892             1.647088   \n",
            "65             1.077454            0.009647             0.133149   \n",
            "11             1.598163            0.622217             1.504429   \n",
            "42             3.058498            0.107856             1.951788   \n",
            "\n",
            "    petal width (cm)^2  \n",
            "22            1.730394  \n",
            "15            1.107083  \n",
            "65            0.069771  \n",
            "11            1.730394  \n",
            "42            1.730394  \n",
            "\n",
            "Training labels:\n",
            " 22    0\n",
            "15    0\n",
            "65    1\n",
            "11    0\n",
            "42    0\n",
            "Name: target, dtype: int64\n"
          ]
        }
      ]
    }
  ]
}