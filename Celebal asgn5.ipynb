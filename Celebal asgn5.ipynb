{
  "nbformat": 4,
  "nbformat_minor": 0,
  "metadata": {
    "colab": {
      "provenance": [],
      "toc_visible": true
    },
    "kernelspec": {
      "name": "python3",
      "display_name": "Python 3"
    },
    "language_info": {
      "name": "python"
    }
  },
  "cells": [
    {
      "cell_type": "code",
      "execution_count": 49,
      "metadata": {
        "id": "7APTj3xYqbpZ"
      },
      "outputs": [],
      "source": [
        "import pandas as pd\n",
        "\n",
        "# Load the Titanic dataset\n",
        "df = pd.read_csv('/content/titanic (1).csv')"
      ]
    },
    {
      "cell_type": "code",
      "source": [
        "# Display the first few rows of the dataset\n",
        "print(df.head())\n",
        "\n"
      ],
      "metadata": {
        "colab": {
          "base_uri": "https://localhost:8080/"
        },
        "id": "G-9_aT6arlmF",
        "outputId": "687f1195-ab38-4301-ea09-73863b81ec7d"
      },
      "execution_count": 50,
      "outputs": [
        {
          "output_type": "stream",
          "name": "stdout",
          "text": [
            "   PassengerId  Survived  Pclass      Lname  \\\n",
            "0            1         0       3     Braund   \n",
            "1            2         1       1    Cumings   \n",
            "2            3         1       3  Heikkinen   \n",
            "3            4         1       1   Futrelle   \n",
            "4            5         0       3      Allen   \n",
            "\n",
            "                                          Name     Sex   Age  SibSp  Parch  \\\n",
            "0                              Mr. Owen Harris    male  22.0      1      0   \n",
            "1   Mrs. John Bradley (Florence Briggs Thayer)  female  38.0      1      0   \n",
            "2                                  Miss. Laina  female  26.0      0      0   \n",
            "3           Mrs. Jacques Heath (Lily May Peel)  female  35.0      1      0   \n",
            "4                            Mr. William Henry    male  35.0      0      0   \n",
            "\n",
            "             Ticket     Fare Cabin Embarked  \n",
            "0         A/5 21171   7.2500   NaN        S  \n",
            "1          PC 17599  71.2833   C85        C  \n",
            "2  STON/O2. 3101282   7.9250   NaN        S  \n",
            "3            113803  53.1000  C123        S  \n",
            "4            373450   8.0500   NaN        S  \n"
          ]
        }
      ]
    },
    {
      "cell_type": "code",
      "source": [
        "#summary statistics\n",
        "print(df.describe())"
      ],
      "metadata": {
        "colab": {
          "base_uri": "https://localhost:8080/"
        },
        "id": "Q0XTLj5guVXw",
        "outputId": "754a45f2-bccb-4d82-f796-bd2eff72a195"
      },
      "execution_count": 51,
      "outputs": [
        {
          "output_type": "stream",
          "name": "stdout",
          "text": [
            "       PassengerId    Survived      Pclass         Age       SibSp  \\\n",
            "count   156.000000  156.000000  156.000000  126.000000  156.000000   \n",
            "mean     78.500000    0.346154    2.423077   28.141508    0.615385   \n",
            "std      45.177428    0.477275    0.795459   14.613880    1.056235   \n",
            "min       1.000000    0.000000    1.000000    0.830000    0.000000   \n",
            "25%      39.750000    0.000000    2.000000   19.000000    0.000000   \n",
            "50%      78.500000    0.000000    3.000000   26.000000    0.000000   \n",
            "75%     117.250000    1.000000    3.000000   35.000000    1.000000   \n",
            "max     156.000000    1.000000    3.000000   71.000000    5.000000   \n",
            "\n",
            "            Parch        Fare  \n",
            "count  156.000000  156.000000  \n",
            "mean     0.397436   28.109587  \n",
            "std      0.870146   39.401047  \n",
            "min      0.000000    6.750000  \n",
            "25%      0.000000    8.003150  \n",
            "50%      0.000000   14.454200  \n",
            "75%      0.000000   30.371850  \n",
            "max      5.000000  263.000000  \n"
          ]
        }
      ]
    },
    {
      "cell_type": "code",
      "source": [
        "# Check missing values\n",
        "print(df.isnull().sum())"
      ],
      "metadata": {
        "colab": {
          "base_uri": "https://localhost:8080/"
        },
        "id": "m3EoBxgUujc7",
        "outputId": "bcf2ec7e-c022-401b-d152-495330d6f377"
      },
      "execution_count": 52,
      "outputs": [
        {
          "output_type": "stream",
          "name": "stdout",
          "text": [
            "PassengerId      0\n",
            "Survived         0\n",
            "Pclass           0\n",
            "Lname            0\n",
            "Name             0\n",
            "Sex              0\n",
            "Age             30\n",
            "SibSp            0\n",
            "Parch            0\n",
            "Ticket           0\n",
            "Fare             0\n",
            "Cabin          125\n",
            "Embarked         1\n",
            "dtype: int64\n"
          ]
        }
      ]
    },
    {
      "cell_type": "code",
      "source": [
        "# Data types of columns\n",
        "print(df.info())"
      ],
      "metadata": {
        "colab": {
          "base_uri": "https://localhost:8080/"
        },
        "id": "J2cmtGFNuo-W",
        "outputId": "cb9b70e6-2198-490f-a14c-f9e98c4aad2f"
      },
      "execution_count": 53,
      "outputs": [
        {
          "output_type": "stream",
          "name": "stdout",
          "text": [
            "<class 'pandas.core.frame.DataFrame'>\n",
            "RangeIndex: 156 entries, 0 to 155\n",
            "Data columns (total 13 columns):\n",
            " #   Column       Non-Null Count  Dtype  \n",
            "---  ------       --------------  -----  \n",
            " 0   PassengerId  156 non-null    int64  \n",
            " 1   Survived     156 non-null    int64  \n",
            " 2   Pclass       156 non-null    int64  \n",
            " 3   Lname        156 non-null    object \n",
            " 4   Name         156 non-null    object \n",
            " 5   Sex          156 non-null    object \n",
            " 6   Age          126 non-null    float64\n",
            " 7   SibSp        156 non-null    int64  \n",
            " 8   Parch        156 non-null    int64  \n",
            " 9   Ticket       156 non-null    object \n",
            " 10  Fare         156 non-null    float64\n",
            " 11  Cabin        31 non-null     object \n",
            " 12  Embarked     155 non-null    object \n",
            "dtypes: float64(2), int64(5), object(6)\n",
            "memory usage: 16.0+ KB\n",
            "None\n"
          ]
        }
      ]
    },
    {
      "cell_type": "code",
      "source": [
        "if df['Age'].notna().any():\n",
        "    df['Age'] = df['Age'].fillna(df['Age'].median())\n",
        "    df = df.infer_objects(copy=False)\n",
        "else:\n",
        "    print(\"Warning: 'Age' column is entirely NaN.\")"
      ],
      "metadata": {
        "id": "j2Xza-D5xnnl"
      },
      "execution_count": 54,
      "outputs": []
    },
    {
      "cell_type": "code",
      "source": [
        "df['Age'].fillna(df['Age'].median(), inplace=True)\n",
        "df['Embarked'].fillna(df['Embarked'].mode()[0], inplace=True)\n",
        "df.drop(columns=['Cabin'], inplace=True)"
      ],
      "metadata": {
        "id": "EBQVIhC83fmD"
      },
      "execution_count": 55,
      "outputs": []
    },
    {
      "cell_type": "code",
      "source": [
        "df = df.dropna(subset=['Fare'])"
      ],
      "metadata": {
        "id": "jPQsnJdMAmhx"
      },
      "execution_count": 56,
      "outputs": []
    },
    {
      "cell_type": "code",
      "source": [
        "df['Sex'] = df['Sex'].map({'male': 0, 'female': 1})"
      ],
      "metadata": {
        "id": "LWl-fcXDAtrb"
      },
      "execution_count": 57,
      "outputs": []
    },
    {
      "cell_type": "code",
      "source": [
        "df = pd.get_dummies(df, columns=['Embarked'], drop_first=True)"
      ],
      "metadata": {
        "id": "kIPCCyePAxVI"
      },
      "execution_count": 58,
      "outputs": []
    },
    {
      "cell_type": "code",
      "source": [
        "df['FamilySize'] = df['SibSp'] + df['Parch'] + 1"
      ],
      "metadata": {
        "id": "ZzRDaSBBA0WF"
      },
      "execution_count": 59,
      "outputs": []
    },
    {
      "cell_type": "code",
      "source": [
        "df['IsAlone'] = (df['FamilySize'] == 1).astype(int)"
      ],
      "metadata": {
        "id": "AezNNvCkA4MK"
      },
      "execution_count": 60,
      "outputs": []
    },
    {
      "cell_type": "code",
      "source": [
        "df.drop(columns=['Name', 'Ticket', 'PassengerId'], inplace=True)"
      ],
      "metadata": {
        "id": "RwKVLV3nBjyV"
      },
      "execution_count": 61,
      "outputs": []
    },
    {
      "cell_type": "code",
      "source": [
        "print(df.head())"
      ],
      "metadata": {
        "colab": {
          "base_uri": "https://localhost:8080/"
        },
        "id": "tavp3QqlBv8B",
        "outputId": "282da537-06c9-4696-cdeb-415e6fbb6454"
      },
      "execution_count": 62,
      "outputs": [
        {
          "output_type": "stream",
          "name": "stdout",
          "text": [
            "   Survived  Pclass      Lname  Sex   Age  SibSp  Parch     Fare  Embarked_Q  \\\n",
            "0         0       3     Braund    0  22.0      1      0   7.2500       False   \n",
            "1         1       1    Cumings    1  38.0      1      0  71.2833       False   \n",
            "2         1       3  Heikkinen    1  26.0      0      0   7.9250       False   \n",
            "3         1       1   Futrelle    1  35.0      1      0  53.1000       False   \n",
            "4         0       3      Allen    0  35.0      0      0   8.0500       False   \n",
            "\n",
            "   Embarked_S  FamilySize  IsAlone  \n",
            "0        True           2        0  \n",
            "1       False           2        0  \n",
            "2        True           1        1  \n",
            "3        True           2        0  \n",
            "4        True           1        1  \n"
          ]
        }
      ]
    }
  ]
}